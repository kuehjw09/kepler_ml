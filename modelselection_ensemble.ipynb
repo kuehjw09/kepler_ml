{
  "cells": [
    {
      "cell_type": "markdown",
      "metadata": {
        "id": "dzLzn_HVi6nb"
      },
      "source": [
        "Using Ensemble Learning Methods to classify target stars."
      ]
    },
    {
      "cell_type": "code",
      "execution_count": 2,
      "metadata": {
        "id": "t1p_5rfNBgs-"
      },
      "outputs": [],
      "source": [
        "from sklearn.ensemble import RandomForestClassifier\n",
        "from sklearn.model_selection import train_test_split\n",
        "from sklearn.metrics import accuracy_score\n",
        "from sklearn.preprocessing import StandardScaler\n",
        "from imblearn.over_sampling import SMOTE\n",
        "\n",
        "import pandas as pd\n",
        "import numpy as np\n",
        "import matplotlib.pyplot as plt\n",
        "import seaborn as sns"
      ]
    },
    {
      "cell_type": "code",
      "execution_count": 3,
      "metadata": {
        "colab": {
          "base_uri": "https://localhost:8080/",
          "height": 444
        },
        "id": "vn6RI4O5nE4M",
        "outputId": "9a842599-2dc6-40c1-f2b6-59dd2243b502"
      },
      "outputs": [
        {
          "output_type": "execute_result",
          "data": {
            "text/plain": [
              "           kepid    flux_1    flux_2    flux_3    flux_4    flux_5    flux_6  \\\n",
              "0     10797460.0  0.999956  0.999976  0.999927  0.999900  0.999946  0.999974   \n",
              "1     10848459.0  1.000090       NaN  0.999933  1.000010  1.000484  1.000211   \n",
              "2     10797460.0  1.000086  1.000074  0.999959  1.000018  1.000172  0.999981   \n",
              "3      6721123.0  0.999984  1.000008  0.999981  0.999999  0.999918  0.999998   \n",
              "4     10811496.0  1.000903  1.001195  1.000961  1.000900  1.001421  1.001033   \n",
              "...          ...       ...       ...       ...       ...       ...       ...   \n",
              "6809   9938836.0  0.999991  0.999968  0.999968  1.000082  1.000008  0.999973   \n",
              "6810  10011213.0  0.999950  1.000026  1.000186  1.000040  0.999975  1.000035   \n",
              "6811  10028127.0  1.000221  1.000293  1.000170  1.000496  1.000185  1.000215   \n",
              "6812  10128825.0  1.000068  1.000005  1.000031  1.000033  0.999948  0.999934   \n",
              "6813  10155286.0  1.000142  1.000085  0.999859  0.999556       NaN       NaN   \n",
              "\n",
              "        flux_7    flux_8    flux_9  ...  flux_992  flux_993  flux_994  \\\n",
              "0     0.999817  1.000073  0.999805  ...  0.999985  1.000216  0.999849   \n",
              "1     0.999942  1.000306  1.000175  ...  1.000171  1.000071  1.000015   \n",
              "2     0.999912  1.000094  1.000037  ...  1.000001  0.999999  0.999876   \n",
              "3     0.999958  0.999988  0.999988  ...  1.000084  0.999993  1.000052   \n",
              "4     1.001075  1.000885  1.001231  ...  1.000613  1.000885  1.000414   \n",
              "...        ...       ...       ...  ...       ...       ...       ...   \n",
              "6809  0.999983  0.999966  0.999955  ...  0.999953  1.000111  1.000005   \n",
              "6810  1.000015  0.999532  1.000081  ...  0.999934  0.999771  1.000136   \n",
              "6811  1.000107  0.999832  0.999766  ...  1.000051  1.000172  1.000083   \n",
              "6812  0.999934  0.999871  0.999959  ...  1.000044  1.000064  1.000121   \n",
              "6813       NaN       NaN       NaN  ...  0.999737  0.999974  1.000078   \n",
              "\n",
              "      flux_995  flux_996  flux_997  flux_998  flux_999  flux_1000  label  \n",
              "0     0.999988  0.999935  0.999952  1.000010  1.000180   0.999846    1.0  \n",
              "1     1.000282  1.000190  0.999994  1.000019  1.000038   1.000262    0.0  \n",
              "2     1.000060  0.999987  0.999778  0.999984  1.000067   0.999960    1.0  \n",
              "3     1.000010  0.999980  0.999998  1.000053  0.999989   0.999980    0.0  \n",
              "4     1.000970  1.000982  1.001035  1.000859  1.000877   1.001111    1.0  \n",
              "...        ...       ...       ...       ...       ...        ...    ...  \n",
              "6809  1.000054  1.000135  1.000041  0.999983  1.000055   1.000055    1.0  \n",
              "6810  0.999914  0.999816  1.000002  0.999912  1.000061   1.000179    1.0  \n",
              "6811  1.000107       NaN       NaN  0.998682  0.999515   0.999946    1.0  \n",
              "6812  0.999960  0.999939  1.000060  0.999922  1.000050   0.999950    1.0  \n",
              "6813  1.000066  1.000175  0.999813  0.999946  0.999950   1.000188    1.0  \n",
              "\n",
              "[6814 rows x 1002 columns]"
            ],
            "text/html": [
              "\n",
              "  <div id=\"df-45da2a18-4126-4d91-bab0-b30f50369653\" class=\"colab-df-container\">\n",
              "    <div>\n",
              "<style scoped>\n",
              "    .dataframe tbody tr th:only-of-type {\n",
              "        vertical-align: middle;\n",
              "    }\n",
              "\n",
              "    .dataframe tbody tr th {\n",
              "        vertical-align: top;\n",
              "    }\n",
              "\n",
              "    .dataframe thead th {\n",
              "        text-align: right;\n",
              "    }\n",
              "</style>\n",
              "<table border=\"1\" class=\"dataframe\">\n",
              "  <thead>\n",
              "    <tr style=\"text-align: right;\">\n",
              "      <th></th>\n",
              "      <th>kepid</th>\n",
              "      <th>flux_1</th>\n",
              "      <th>flux_2</th>\n",
              "      <th>flux_3</th>\n",
              "      <th>flux_4</th>\n",
              "      <th>flux_5</th>\n",
              "      <th>flux_6</th>\n",
              "      <th>flux_7</th>\n",
              "      <th>flux_8</th>\n",
              "      <th>flux_9</th>\n",
              "      <th>...</th>\n",
              "      <th>flux_992</th>\n",
              "      <th>flux_993</th>\n",
              "      <th>flux_994</th>\n",
              "      <th>flux_995</th>\n",
              "      <th>flux_996</th>\n",
              "      <th>flux_997</th>\n",
              "      <th>flux_998</th>\n",
              "      <th>flux_999</th>\n",
              "      <th>flux_1000</th>\n",
              "      <th>label</th>\n",
              "    </tr>\n",
              "  </thead>\n",
              "  <tbody>\n",
              "    <tr>\n",
              "      <th>0</th>\n",
              "      <td>10797460.0</td>\n",
              "      <td>0.999956</td>\n",
              "      <td>0.999976</td>\n",
              "      <td>0.999927</td>\n",
              "      <td>0.999900</td>\n",
              "      <td>0.999946</td>\n",
              "      <td>0.999974</td>\n",
              "      <td>0.999817</td>\n",
              "      <td>1.000073</td>\n",
              "      <td>0.999805</td>\n",
              "      <td>...</td>\n",
              "      <td>0.999985</td>\n",
              "      <td>1.000216</td>\n",
              "      <td>0.999849</td>\n",
              "      <td>0.999988</td>\n",
              "      <td>0.999935</td>\n",
              "      <td>0.999952</td>\n",
              "      <td>1.000010</td>\n",
              "      <td>1.000180</td>\n",
              "      <td>0.999846</td>\n",
              "      <td>1.0</td>\n",
              "    </tr>\n",
              "    <tr>\n",
              "      <th>1</th>\n",
              "      <td>10848459.0</td>\n",
              "      <td>1.000090</td>\n",
              "      <td>NaN</td>\n",
              "      <td>0.999933</td>\n",
              "      <td>1.000010</td>\n",
              "      <td>1.000484</td>\n",
              "      <td>1.000211</td>\n",
              "      <td>0.999942</td>\n",
              "      <td>1.000306</td>\n",
              "      <td>1.000175</td>\n",
              "      <td>...</td>\n",
              "      <td>1.000171</td>\n",
              "      <td>1.000071</td>\n",
              "      <td>1.000015</td>\n",
              "      <td>1.000282</td>\n",
              "      <td>1.000190</td>\n",
              "      <td>0.999994</td>\n",
              "      <td>1.000019</td>\n",
              "      <td>1.000038</td>\n",
              "      <td>1.000262</td>\n",
              "      <td>0.0</td>\n",
              "    </tr>\n",
              "    <tr>\n",
              "      <th>2</th>\n",
              "      <td>10797460.0</td>\n",
              "      <td>1.000086</td>\n",
              "      <td>1.000074</td>\n",
              "      <td>0.999959</td>\n",
              "      <td>1.000018</td>\n",
              "      <td>1.000172</td>\n",
              "      <td>0.999981</td>\n",
              "      <td>0.999912</td>\n",
              "      <td>1.000094</td>\n",
              "      <td>1.000037</td>\n",
              "      <td>...</td>\n",
              "      <td>1.000001</td>\n",
              "      <td>0.999999</td>\n",
              "      <td>0.999876</td>\n",
              "      <td>1.000060</td>\n",
              "      <td>0.999987</td>\n",
              "      <td>0.999778</td>\n",
              "      <td>0.999984</td>\n",
              "      <td>1.000067</td>\n",
              "      <td>0.999960</td>\n",
              "      <td>1.0</td>\n",
              "    </tr>\n",
              "    <tr>\n",
              "      <th>3</th>\n",
              "      <td>6721123.0</td>\n",
              "      <td>0.999984</td>\n",
              "      <td>1.000008</td>\n",
              "      <td>0.999981</td>\n",
              "      <td>0.999999</td>\n",
              "      <td>0.999918</td>\n",
              "      <td>0.999998</td>\n",
              "      <td>0.999958</td>\n",
              "      <td>0.999988</td>\n",
              "      <td>0.999988</td>\n",
              "      <td>...</td>\n",
              "      <td>1.000084</td>\n",
              "      <td>0.999993</td>\n",
              "      <td>1.000052</td>\n",
              "      <td>1.000010</td>\n",
              "      <td>0.999980</td>\n",
              "      <td>0.999998</td>\n",
              "      <td>1.000053</td>\n",
              "      <td>0.999989</td>\n",
              "      <td>0.999980</td>\n",
              "      <td>0.0</td>\n",
              "    </tr>\n",
              "    <tr>\n",
              "      <th>4</th>\n",
              "      <td>10811496.0</td>\n",
              "      <td>1.000903</td>\n",
              "      <td>1.001195</td>\n",
              "      <td>1.000961</td>\n",
              "      <td>1.000900</td>\n",
              "      <td>1.001421</td>\n",
              "      <td>1.001033</td>\n",
              "      <td>1.001075</td>\n",
              "      <td>1.000885</td>\n",
              "      <td>1.001231</td>\n",
              "      <td>...</td>\n",
              "      <td>1.000613</td>\n",
              "      <td>1.000885</td>\n",
              "      <td>1.000414</td>\n",
              "      <td>1.000970</td>\n",
              "      <td>1.000982</td>\n",
              "      <td>1.001035</td>\n",
              "      <td>1.000859</td>\n",
              "      <td>1.000877</td>\n",
              "      <td>1.001111</td>\n",
              "      <td>1.0</td>\n",
              "    </tr>\n",
              "    <tr>\n",
              "      <th>...</th>\n",
              "      <td>...</td>\n",
              "      <td>...</td>\n",
              "      <td>...</td>\n",
              "      <td>...</td>\n",
              "      <td>...</td>\n",
              "      <td>...</td>\n",
              "      <td>...</td>\n",
              "      <td>...</td>\n",
              "      <td>...</td>\n",
              "      <td>...</td>\n",
              "      <td>...</td>\n",
              "      <td>...</td>\n",
              "      <td>...</td>\n",
              "      <td>...</td>\n",
              "      <td>...</td>\n",
              "      <td>...</td>\n",
              "      <td>...</td>\n",
              "      <td>...</td>\n",
              "      <td>...</td>\n",
              "      <td>...</td>\n",
              "      <td>...</td>\n",
              "    </tr>\n",
              "    <tr>\n",
              "      <th>6809</th>\n",
              "      <td>9938836.0</td>\n",
              "      <td>0.999991</td>\n",
              "      <td>0.999968</td>\n",
              "      <td>0.999968</td>\n",
              "      <td>1.000082</td>\n",
              "      <td>1.000008</td>\n",
              "      <td>0.999973</td>\n",
              "      <td>0.999983</td>\n",
              "      <td>0.999966</td>\n",
              "      <td>0.999955</td>\n",
              "      <td>...</td>\n",
              "      <td>0.999953</td>\n",
              "      <td>1.000111</td>\n",
              "      <td>1.000005</td>\n",
              "      <td>1.000054</td>\n",
              "      <td>1.000135</td>\n",
              "      <td>1.000041</td>\n",
              "      <td>0.999983</td>\n",
              "      <td>1.000055</td>\n",
              "      <td>1.000055</td>\n",
              "      <td>1.0</td>\n",
              "    </tr>\n",
              "    <tr>\n",
              "      <th>6810</th>\n",
              "      <td>10011213.0</td>\n",
              "      <td>0.999950</td>\n",
              "      <td>1.000026</td>\n",
              "      <td>1.000186</td>\n",
              "      <td>1.000040</td>\n",
              "      <td>0.999975</td>\n",
              "      <td>1.000035</td>\n",
              "      <td>1.000015</td>\n",
              "      <td>0.999532</td>\n",
              "      <td>1.000081</td>\n",
              "      <td>...</td>\n",
              "      <td>0.999934</td>\n",
              "      <td>0.999771</td>\n",
              "      <td>1.000136</td>\n",
              "      <td>0.999914</td>\n",
              "      <td>0.999816</td>\n",
              "      <td>1.000002</td>\n",
              "      <td>0.999912</td>\n",
              "      <td>1.000061</td>\n",
              "      <td>1.000179</td>\n",
              "      <td>1.0</td>\n",
              "    </tr>\n",
              "    <tr>\n",
              "      <th>6811</th>\n",
              "      <td>10028127.0</td>\n",
              "      <td>1.000221</td>\n",
              "      <td>1.000293</td>\n",
              "      <td>1.000170</td>\n",
              "      <td>1.000496</td>\n",
              "      <td>1.000185</td>\n",
              "      <td>1.000215</td>\n",
              "      <td>1.000107</td>\n",
              "      <td>0.999832</td>\n",
              "      <td>0.999766</td>\n",
              "      <td>...</td>\n",
              "      <td>1.000051</td>\n",
              "      <td>1.000172</td>\n",
              "      <td>1.000083</td>\n",
              "      <td>1.000107</td>\n",
              "      <td>NaN</td>\n",
              "      <td>NaN</td>\n",
              "      <td>0.998682</td>\n",
              "      <td>0.999515</td>\n",
              "      <td>0.999946</td>\n",
              "      <td>1.0</td>\n",
              "    </tr>\n",
              "    <tr>\n",
              "      <th>6812</th>\n",
              "      <td>10128825.0</td>\n",
              "      <td>1.000068</td>\n",
              "      <td>1.000005</td>\n",
              "      <td>1.000031</td>\n",
              "      <td>1.000033</td>\n",
              "      <td>0.999948</td>\n",
              "      <td>0.999934</td>\n",
              "      <td>0.999934</td>\n",
              "      <td>0.999871</td>\n",
              "      <td>0.999959</td>\n",
              "      <td>...</td>\n",
              "      <td>1.000044</td>\n",
              "      <td>1.000064</td>\n",
              "      <td>1.000121</td>\n",
              "      <td>0.999960</td>\n",
              "      <td>0.999939</td>\n",
              "      <td>1.000060</td>\n",
              "      <td>0.999922</td>\n",
              "      <td>1.000050</td>\n",
              "      <td>0.999950</td>\n",
              "      <td>1.0</td>\n",
              "    </tr>\n",
              "    <tr>\n",
              "      <th>6813</th>\n",
              "      <td>10155286.0</td>\n",
              "      <td>1.000142</td>\n",
              "      <td>1.000085</td>\n",
              "      <td>0.999859</td>\n",
              "      <td>0.999556</td>\n",
              "      <td>NaN</td>\n",
              "      <td>NaN</td>\n",
              "      <td>NaN</td>\n",
              "      <td>NaN</td>\n",
              "      <td>NaN</td>\n",
              "      <td>...</td>\n",
              "      <td>0.999737</td>\n",
              "      <td>0.999974</td>\n",
              "      <td>1.000078</td>\n",
              "      <td>1.000066</td>\n",
              "      <td>1.000175</td>\n",
              "      <td>0.999813</td>\n",
              "      <td>0.999946</td>\n",
              "      <td>0.999950</td>\n",
              "      <td>1.000188</td>\n",
              "      <td>1.0</td>\n",
              "    </tr>\n",
              "  </tbody>\n",
              "</table>\n",
              "<p>6814 rows × 1002 columns</p>\n",
              "</div>\n",
              "    <div class=\"colab-df-buttons\">\n",
              "\n",
              "  <div class=\"colab-df-container\">\n",
              "    <button class=\"colab-df-convert\" onclick=\"convertToInteractive('df-45da2a18-4126-4d91-bab0-b30f50369653')\"\n",
              "            title=\"Convert this dataframe to an interactive table.\"\n",
              "            style=\"display:none;\">\n",
              "\n",
              "  <svg xmlns=\"http://www.w3.org/2000/svg\" height=\"24px\" viewBox=\"0 -960 960 960\">\n",
              "    <path d=\"M120-120v-720h720v720H120Zm60-500h600v-160H180v160Zm220 220h160v-160H400v160Zm0 220h160v-160H400v160ZM180-400h160v-160H180v160Zm440 0h160v-160H620v160ZM180-180h160v-160H180v160Zm440 0h160v-160H620v160Z\"/>\n",
              "  </svg>\n",
              "    </button>\n",
              "\n",
              "  <style>\n",
              "    .colab-df-container {\n",
              "      display:flex;\n",
              "      gap: 12px;\n",
              "    }\n",
              "\n",
              "    .colab-df-convert {\n",
              "      background-color: #E8F0FE;\n",
              "      border: none;\n",
              "      border-radius: 50%;\n",
              "      cursor: pointer;\n",
              "      display: none;\n",
              "      fill: #1967D2;\n",
              "      height: 32px;\n",
              "      padding: 0 0 0 0;\n",
              "      width: 32px;\n",
              "    }\n",
              "\n",
              "    .colab-df-convert:hover {\n",
              "      background-color: #E2EBFA;\n",
              "      box-shadow: 0px 1px 2px rgba(60, 64, 67, 0.3), 0px 1px 3px 1px rgba(60, 64, 67, 0.15);\n",
              "      fill: #174EA6;\n",
              "    }\n",
              "\n",
              "    .colab-df-buttons div {\n",
              "      margin-bottom: 4px;\n",
              "    }\n",
              "\n",
              "    [theme=dark] .colab-df-convert {\n",
              "      background-color: #3B4455;\n",
              "      fill: #D2E3FC;\n",
              "    }\n",
              "\n",
              "    [theme=dark] .colab-df-convert:hover {\n",
              "      background-color: #434B5C;\n",
              "      box-shadow: 0px 1px 3px 1px rgba(0, 0, 0, 0.15);\n",
              "      filter: drop-shadow(0px 1px 2px rgba(0, 0, 0, 0.3));\n",
              "      fill: #FFFFFF;\n",
              "    }\n",
              "  </style>\n",
              "\n",
              "    <script>\n",
              "      const buttonEl =\n",
              "        document.querySelector('#df-45da2a18-4126-4d91-bab0-b30f50369653 button.colab-df-convert');\n",
              "      buttonEl.style.display =\n",
              "        google.colab.kernel.accessAllowed ? 'block' : 'none';\n",
              "\n",
              "      async function convertToInteractive(key) {\n",
              "        const element = document.querySelector('#df-45da2a18-4126-4d91-bab0-b30f50369653');\n",
              "        const dataTable =\n",
              "          await google.colab.kernel.invokeFunction('convertToInteractive',\n",
              "                                                    [key], {});\n",
              "        if (!dataTable) return;\n",
              "\n",
              "        const docLinkHtml = 'Like what you see? Visit the ' +\n",
              "          '<a target=\"_blank\" href=https://colab.research.google.com/notebooks/data_table.ipynb>data table notebook</a>'\n",
              "          + ' to learn more about interactive tables.';\n",
              "        element.innerHTML = '';\n",
              "        dataTable['output_type'] = 'display_data';\n",
              "        await google.colab.output.renderOutput(dataTable, element);\n",
              "        const docLink = document.createElement('div');\n",
              "        docLink.innerHTML = docLinkHtml;\n",
              "        element.appendChild(docLink);\n",
              "      }\n",
              "    </script>\n",
              "  </div>\n",
              "\n",
              "\n",
              "<div id=\"df-25b27466-c050-4ae1-817a-0aecafc6502e\">\n",
              "  <button class=\"colab-df-quickchart\" onclick=\"quickchart('df-25b27466-c050-4ae1-817a-0aecafc6502e')\"\n",
              "            title=\"Suggest charts\"\n",
              "            style=\"display:none;\">\n",
              "\n",
              "<svg xmlns=\"http://www.w3.org/2000/svg\" height=\"24px\"viewBox=\"0 0 24 24\"\n",
              "     width=\"24px\">\n",
              "    <g>\n",
              "        <path d=\"M19 3H5c-1.1 0-2 .9-2 2v14c0 1.1.9 2 2 2h14c1.1 0 2-.9 2-2V5c0-1.1-.9-2-2-2zM9 17H7v-7h2v7zm4 0h-2V7h2v10zm4 0h-2v-4h2v4z\"/>\n",
              "    </g>\n",
              "</svg>\n",
              "  </button>\n",
              "\n",
              "<style>\n",
              "  .colab-df-quickchart {\n",
              "      --bg-color: #E8F0FE;\n",
              "      --fill-color: #1967D2;\n",
              "      --hover-bg-color: #E2EBFA;\n",
              "      --hover-fill-color: #174EA6;\n",
              "      --disabled-fill-color: #AAA;\n",
              "      --disabled-bg-color: #DDD;\n",
              "  }\n",
              "\n",
              "  [theme=dark] .colab-df-quickchart {\n",
              "      --bg-color: #3B4455;\n",
              "      --fill-color: #D2E3FC;\n",
              "      --hover-bg-color: #434B5C;\n",
              "      --hover-fill-color: #FFFFFF;\n",
              "      --disabled-bg-color: #3B4455;\n",
              "      --disabled-fill-color: #666;\n",
              "  }\n",
              "\n",
              "  .colab-df-quickchart {\n",
              "    background-color: var(--bg-color);\n",
              "    border: none;\n",
              "    border-radius: 50%;\n",
              "    cursor: pointer;\n",
              "    display: none;\n",
              "    fill: var(--fill-color);\n",
              "    height: 32px;\n",
              "    padding: 0;\n",
              "    width: 32px;\n",
              "  }\n",
              "\n",
              "  .colab-df-quickchart:hover {\n",
              "    background-color: var(--hover-bg-color);\n",
              "    box-shadow: 0 1px 2px rgba(60, 64, 67, 0.3), 0 1px 3px 1px rgba(60, 64, 67, 0.15);\n",
              "    fill: var(--button-hover-fill-color);\n",
              "  }\n",
              "\n",
              "  .colab-df-quickchart-complete:disabled,\n",
              "  .colab-df-quickchart-complete:disabled:hover {\n",
              "    background-color: var(--disabled-bg-color);\n",
              "    fill: var(--disabled-fill-color);\n",
              "    box-shadow: none;\n",
              "  }\n",
              "\n",
              "  .colab-df-spinner {\n",
              "    border: 2px solid var(--fill-color);\n",
              "    border-color: transparent;\n",
              "    border-bottom-color: var(--fill-color);\n",
              "    animation:\n",
              "      spin 1s steps(1) infinite;\n",
              "  }\n",
              "\n",
              "  @keyframes spin {\n",
              "    0% {\n",
              "      border-color: transparent;\n",
              "      border-bottom-color: var(--fill-color);\n",
              "      border-left-color: var(--fill-color);\n",
              "    }\n",
              "    20% {\n",
              "      border-color: transparent;\n",
              "      border-left-color: var(--fill-color);\n",
              "      border-top-color: var(--fill-color);\n",
              "    }\n",
              "    30% {\n",
              "      border-color: transparent;\n",
              "      border-left-color: var(--fill-color);\n",
              "      border-top-color: var(--fill-color);\n",
              "      border-right-color: var(--fill-color);\n",
              "    }\n",
              "    40% {\n",
              "      border-color: transparent;\n",
              "      border-right-color: var(--fill-color);\n",
              "      border-top-color: var(--fill-color);\n",
              "    }\n",
              "    60% {\n",
              "      border-color: transparent;\n",
              "      border-right-color: var(--fill-color);\n",
              "    }\n",
              "    80% {\n",
              "      border-color: transparent;\n",
              "      border-right-color: var(--fill-color);\n",
              "      border-bottom-color: var(--fill-color);\n",
              "    }\n",
              "    90% {\n",
              "      border-color: transparent;\n",
              "      border-bottom-color: var(--fill-color);\n",
              "    }\n",
              "  }\n",
              "</style>\n",
              "\n",
              "  <script>\n",
              "    async function quickchart(key) {\n",
              "      const quickchartButtonEl =\n",
              "        document.querySelector('#' + key + ' button');\n",
              "      quickchartButtonEl.disabled = true;  // To prevent multiple clicks.\n",
              "      quickchartButtonEl.classList.add('colab-df-spinner');\n",
              "      try {\n",
              "        const charts = await google.colab.kernel.invokeFunction(\n",
              "            'suggestCharts', [key], {});\n",
              "      } catch (error) {\n",
              "        console.error('Error during call to suggestCharts:', error);\n",
              "      }\n",
              "      quickchartButtonEl.classList.remove('colab-df-spinner');\n",
              "      quickchartButtonEl.classList.add('colab-df-quickchart-complete');\n",
              "    }\n",
              "    (() => {\n",
              "      let quickchartButtonEl =\n",
              "        document.querySelector('#df-25b27466-c050-4ae1-817a-0aecafc6502e button');\n",
              "      quickchartButtonEl.style.display =\n",
              "        google.colab.kernel.accessAllowed ? 'block' : 'none';\n",
              "    })();\n",
              "  </script>\n",
              "</div>\n",
              "\n",
              "  <div id=\"id_b26b28ec-99b6-4abc-aefd-f09d66cfc9c7\">\n",
              "    <style>\n",
              "      .colab-df-generate {\n",
              "        background-color: #E8F0FE;\n",
              "        border: none;\n",
              "        border-radius: 50%;\n",
              "        cursor: pointer;\n",
              "        display: none;\n",
              "        fill: #1967D2;\n",
              "        height: 32px;\n",
              "        padding: 0 0 0 0;\n",
              "        width: 32px;\n",
              "      }\n",
              "\n",
              "      .colab-df-generate:hover {\n",
              "        background-color: #E2EBFA;\n",
              "        box-shadow: 0px 1px 2px rgba(60, 64, 67, 0.3), 0px 1px 3px 1px rgba(60, 64, 67, 0.15);\n",
              "        fill: #174EA6;\n",
              "      }\n",
              "\n",
              "      [theme=dark] .colab-df-generate {\n",
              "        background-color: #3B4455;\n",
              "        fill: #D2E3FC;\n",
              "      }\n",
              "\n",
              "      [theme=dark] .colab-df-generate:hover {\n",
              "        background-color: #434B5C;\n",
              "        box-shadow: 0px 1px 3px 1px rgba(0, 0, 0, 0.15);\n",
              "        filter: drop-shadow(0px 1px 2px rgba(0, 0, 0, 0.3));\n",
              "        fill: #FFFFFF;\n",
              "      }\n",
              "    </style>\n",
              "    <button class=\"colab-df-generate\" onclick=\"generateWithVariable('df')\"\n",
              "            title=\"Generate code using this dataframe.\"\n",
              "            style=\"display:none;\">\n",
              "\n",
              "  <svg xmlns=\"http://www.w3.org/2000/svg\" height=\"24px\"viewBox=\"0 0 24 24\"\n",
              "       width=\"24px\">\n",
              "    <path d=\"M7,19H8.4L18.45,9,17,7.55,7,17.6ZM5,21V16.75L18.45,3.32a2,2,0,0,1,2.83,0l1.4,1.43a1.91,1.91,0,0,1,.58,1.4,1.91,1.91,0,0,1-.58,1.4L9.25,21ZM18.45,9,17,7.55Zm-12,3A5.31,5.31,0,0,0,4.9,8.1,5.31,5.31,0,0,0,1,6.5,5.31,5.31,0,0,0,4.9,4.9,5.31,5.31,0,0,0,6.5,1,5.31,5.31,0,0,0,8.1,4.9,5.31,5.31,0,0,0,12,6.5,5.46,5.46,0,0,0,6.5,12Z\"/>\n",
              "  </svg>\n",
              "    </button>\n",
              "    <script>\n",
              "      (() => {\n",
              "      const buttonEl =\n",
              "        document.querySelector('#id_b26b28ec-99b6-4abc-aefd-f09d66cfc9c7 button.colab-df-generate');\n",
              "      buttonEl.style.display =\n",
              "        google.colab.kernel.accessAllowed ? 'block' : 'none';\n",
              "\n",
              "      buttonEl.onclick = () => {\n",
              "        google.colab.notebook.generateWithVariable('df');\n",
              "      }\n",
              "      })();\n",
              "    </script>\n",
              "  </div>\n",
              "\n",
              "    </div>\n",
              "  </div>\n"
            ]
          },
          "metadata": {},
          "execution_count": 3
        }
      ],
      "source": [
        "df = pd.read_csv('/content/drive/MyDrive/CS464_Project/baseline_df.csv')\n",
        "df"
      ]
    },
    {
      "cell_type": "code",
      "execution_count": 5,
      "metadata": {
        "colab": {
          "base_uri": "https://localhost:8080/",
          "height": 560
        },
        "id": "D_TGTBmxB14R",
        "outputId": "4b8eb848-9e73-4f77-a1b7-678e945fc735"
      },
      "outputs": [
        {
          "output_type": "stream",
          "name": "stderr",
          "text": [
            "<ipython-input-5-5042c157f443>:10: PerformanceWarning: DataFrame is highly fragmented.  This is usually the result of calling `frame.insert` many times, which has poor performance.  Consider joining all columns at once using pd.concat(axis=1) instead. To get a de-fragmented frame, use `newframe = frame.copy()`\n",
            "  df_fill['row_mean'] = row_mean\n",
            "<ipython-input-5-5042c157f443>:11: PerformanceWarning: DataFrame is highly fragmented.  This is usually the result of calling `frame.insert` many times, which has poor performance.  Consider joining all columns at once using pd.concat(axis=1) instead. To get a de-fragmented frame, use `newframe = frame.copy()`\n",
            "  df_fill['row_median'] = row_median\n",
            "<ipython-input-5-5042c157f443>:12: PerformanceWarning: DataFrame is highly fragmented.  This is usually the result of calling `frame.insert` many times, which has poor performance.  Consider joining all columns at once using pd.concat(axis=1) instead. To get a de-fragmented frame, use `newframe = frame.copy()`\n",
            "  df_fill['row_std'] = row_std\n",
            "<ipython-input-5-5042c157f443>:13: PerformanceWarning: DataFrame is highly fragmented.  This is usually the result of calling `frame.insert` many times, which has poor performance.  Consider joining all columns at once using pd.concat(axis=1) instead. To get a de-fragmented frame, use `newframe = frame.copy()`\n",
            "  df_fill['row_min'] = row_min\n",
            "<ipython-input-5-5042c157f443>:14: PerformanceWarning: DataFrame is highly fragmented.  This is usually the result of calling `frame.insert` many times, which has poor performance.  Consider joining all columns at once using pd.concat(axis=1) instead. To get a de-fragmented frame, use `newframe = frame.copy()`\n",
            "  df_fill['row_max'] = row_max\n"
          ]
        },
        {
          "output_type": "execute_result",
          "data": {
            "text/plain": [
              "        flux_1    flux_2    flux_3    flux_4    flux_5    flux_6    flux_7  \\\n",
              "6805  1.000160  1.000162  0.999940  1.000199  1.000043  0.999839  1.000001   \n",
              "6806  1.000043  0.999942  1.000088  0.999855  0.999936  1.000089  1.000107   \n",
              "6807  1.000025  1.000336  1.000389  1.000757  1.000275  0.999965  0.999758   \n",
              "6808  0.999677  0.999779  1.000018  1.000161  1.000023  1.000065  1.000231   \n",
              "6809  0.999991  0.999968  0.999968  1.000082  1.000008  0.999973  0.999983   \n",
              "6810  0.999950  1.000026  1.000186  1.000040  0.999975  1.000035  1.000015   \n",
              "6811  1.000221  1.000293  1.000170  1.000496  1.000185  1.000215  1.000107   \n",
              "6812  1.000068  1.000005  1.000031  1.000033  0.999948  0.999934  0.999934   \n",
              "6813  1.000142  1.000085  0.999859  0.999556  0.996865  0.996872  0.996938   \n",
              "\n",
              "        flux_8    flux_9   flux_10  ...  flux_996  flux_997  flux_998  \\\n",
              "6805  1.000127  1.000274  1.000092  ...  0.999884  1.000019  1.000222   \n",
              "6806  1.000033  0.999897  1.000018  ...  1.000003  1.000056  0.999972   \n",
              "6807  0.999840  0.999726  0.999759  ...  0.999738  0.999691  0.999853   \n",
              "6808  1.000259  1.000221  1.000032  ...  1.000191  1.000105  1.000061   \n",
              "6809  0.999966  0.999955  1.000071  ...  1.000135  1.000041  0.999983   \n",
              "6810  0.999532  1.000081  0.999916  ...  0.999816  1.000002  0.999912   \n",
              "6811  0.999832  0.999766  0.999886  ...  0.996926  0.996905  0.998682   \n",
              "6812  0.999871  0.999959  1.000064  ...  0.999939  1.000060  0.999922   \n",
              "6813  0.996992  0.997073  1.000249  ...  1.000175  0.999813  0.999946   \n",
              "\n",
              "      flux_999  flux_1000  row_mean  row_median   row_std   row_min   row_max  \n",
              "6805  1.000159   0.999994  1.000007    1.000002  0.000132  0.999605  1.000420  \n",
              "6806  0.999997   0.999956  0.999967    1.000036  0.000816  0.987423  1.000393  \n",
              "6807  0.999900   0.999766  1.000007    1.000013  0.000275  0.999047  1.000853  \n",
              "6808  0.999818   0.999643  0.999909    1.000007  0.001152  0.985817  1.001014  \n",
              "6809  1.000055   1.000055  1.000004    1.000002  0.000057  0.999814  1.000264  \n",
              "6810  1.000061   1.000179  0.999987    1.000005  0.000417  0.992746  1.001509  \n",
              "6811  0.999515   0.999946  0.999948    1.000012  0.000437  0.995842  1.000569  \n",
              "6812  1.000050   0.999950  1.000003    0.999999  0.000077  0.999763  1.000261  \n",
              "6813  0.999950   1.000188  0.999950    1.000025  0.000578  0.994428  1.000433  \n",
              "\n",
              "[9 rows x 1005 columns]"
            ],
            "text/html": [
              "\n",
              "  <div id=\"df-3a82db09-4126-40b2-970b-a3d52657d089\" class=\"colab-df-container\">\n",
              "    <div>\n",
              "<style scoped>\n",
              "    .dataframe tbody tr th:only-of-type {\n",
              "        vertical-align: middle;\n",
              "    }\n",
              "\n",
              "    .dataframe tbody tr th {\n",
              "        vertical-align: top;\n",
              "    }\n",
              "\n",
              "    .dataframe thead th {\n",
              "        text-align: right;\n",
              "    }\n",
              "</style>\n",
              "<table border=\"1\" class=\"dataframe\">\n",
              "  <thead>\n",
              "    <tr style=\"text-align: right;\">\n",
              "      <th></th>\n",
              "      <th>flux_1</th>\n",
              "      <th>flux_2</th>\n",
              "      <th>flux_3</th>\n",
              "      <th>flux_4</th>\n",
              "      <th>flux_5</th>\n",
              "      <th>flux_6</th>\n",
              "      <th>flux_7</th>\n",
              "      <th>flux_8</th>\n",
              "      <th>flux_9</th>\n",
              "      <th>flux_10</th>\n",
              "      <th>...</th>\n",
              "      <th>flux_996</th>\n",
              "      <th>flux_997</th>\n",
              "      <th>flux_998</th>\n",
              "      <th>flux_999</th>\n",
              "      <th>flux_1000</th>\n",
              "      <th>row_mean</th>\n",
              "      <th>row_median</th>\n",
              "      <th>row_std</th>\n",
              "      <th>row_min</th>\n",
              "      <th>row_max</th>\n",
              "    </tr>\n",
              "  </thead>\n",
              "  <tbody>\n",
              "    <tr>\n",
              "      <th>6805</th>\n",
              "      <td>1.000160</td>\n",
              "      <td>1.000162</td>\n",
              "      <td>0.999940</td>\n",
              "      <td>1.000199</td>\n",
              "      <td>1.000043</td>\n",
              "      <td>0.999839</td>\n",
              "      <td>1.000001</td>\n",
              "      <td>1.000127</td>\n",
              "      <td>1.000274</td>\n",
              "      <td>1.000092</td>\n",
              "      <td>...</td>\n",
              "      <td>0.999884</td>\n",
              "      <td>1.000019</td>\n",
              "      <td>1.000222</td>\n",
              "      <td>1.000159</td>\n",
              "      <td>0.999994</td>\n",
              "      <td>1.000007</td>\n",
              "      <td>1.000002</td>\n",
              "      <td>0.000132</td>\n",
              "      <td>0.999605</td>\n",
              "      <td>1.000420</td>\n",
              "    </tr>\n",
              "    <tr>\n",
              "      <th>6806</th>\n",
              "      <td>1.000043</td>\n",
              "      <td>0.999942</td>\n",
              "      <td>1.000088</td>\n",
              "      <td>0.999855</td>\n",
              "      <td>0.999936</td>\n",
              "      <td>1.000089</td>\n",
              "      <td>1.000107</td>\n",
              "      <td>1.000033</td>\n",
              "      <td>0.999897</td>\n",
              "      <td>1.000018</td>\n",
              "      <td>...</td>\n",
              "      <td>1.000003</td>\n",
              "      <td>1.000056</td>\n",
              "      <td>0.999972</td>\n",
              "      <td>0.999997</td>\n",
              "      <td>0.999956</td>\n",
              "      <td>0.999967</td>\n",
              "      <td>1.000036</td>\n",
              "      <td>0.000816</td>\n",
              "      <td>0.987423</td>\n",
              "      <td>1.000393</td>\n",
              "    </tr>\n",
              "    <tr>\n",
              "      <th>6807</th>\n",
              "      <td>1.000025</td>\n",
              "      <td>1.000336</td>\n",
              "      <td>1.000389</td>\n",
              "      <td>1.000757</td>\n",
              "      <td>1.000275</td>\n",
              "      <td>0.999965</td>\n",
              "      <td>0.999758</td>\n",
              "      <td>0.999840</td>\n",
              "      <td>0.999726</td>\n",
              "      <td>0.999759</td>\n",
              "      <td>...</td>\n",
              "      <td>0.999738</td>\n",
              "      <td>0.999691</td>\n",
              "      <td>0.999853</td>\n",
              "      <td>0.999900</td>\n",
              "      <td>0.999766</td>\n",
              "      <td>1.000007</td>\n",
              "      <td>1.000013</td>\n",
              "      <td>0.000275</td>\n",
              "      <td>0.999047</td>\n",
              "      <td>1.000853</td>\n",
              "    </tr>\n",
              "    <tr>\n",
              "      <th>6808</th>\n",
              "      <td>0.999677</td>\n",
              "      <td>0.999779</td>\n",
              "      <td>1.000018</td>\n",
              "      <td>1.000161</td>\n",
              "      <td>1.000023</td>\n",
              "      <td>1.000065</td>\n",
              "      <td>1.000231</td>\n",
              "      <td>1.000259</td>\n",
              "      <td>1.000221</td>\n",
              "      <td>1.000032</td>\n",
              "      <td>...</td>\n",
              "      <td>1.000191</td>\n",
              "      <td>1.000105</td>\n",
              "      <td>1.000061</td>\n",
              "      <td>0.999818</td>\n",
              "      <td>0.999643</td>\n",
              "      <td>0.999909</td>\n",
              "      <td>1.000007</td>\n",
              "      <td>0.001152</td>\n",
              "      <td>0.985817</td>\n",
              "      <td>1.001014</td>\n",
              "    </tr>\n",
              "    <tr>\n",
              "      <th>6809</th>\n",
              "      <td>0.999991</td>\n",
              "      <td>0.999968</td>\n",
              "      <td>0.999968</td>\n",
              "      <td>1.000082</td>\n",
              "      <td>1.000008</td>\n",
              "      <td>0.999973</td>\n",
              "      <td>0.999983</td>\n",
              "      <td>0.999966</td>\n",
              "      <td>0.999955</td>\n",
              "      <td>1.000071</td>\n",
              "      <td>...</td>\n",
              "      <td>1.000135</td>\n",
              "      <td>1.000041</td>\n",
              "      <td>0.999983</td>\n",
              "      <td>1.000055</td>\n",
              "      <td>1.000055</td>\n",
              "      <td>1.000004</td>\n",
              "      <td>1.000002</td>\n",
              "      <td>0.000057</td>\n",
              "      <td>0.999814</td>\n",
              "      <td>1.000264</td>\n",
              "    </tr>\n",
              "    <tr>\n",
              "      <th>6810</th>\n",
              "      <td>0.999950</td>\n",
              "      <td>1.000026</td>\n",
              "      <td>1.000186</td>\n",
              "      <td>1.000040</td>\n",
              "      <td>0.999975</td>\n",
              "      <td>1.000035</td>\n",
              "      <td>1.000015</td>\n",
              "      <td>0.999532</td>\n",
              "      <td>1.000081</td>\n",
              "      <td>0.999916</td>\n",
              "      <td>...</td>\n",
              "      <td>0.999816</td>\n",
              "      <td>1.000002</td>\n",
              "      <td>0.999912</td>\n",
              "      <td>1.000061</td>\n",
              "      <td>1.000179</td>\n",
              "      <td>0.999987</td>\n",
              "      <td>1.000005</td>\n",
              "      <td>0.000417</td>\n",
              "      <td>0.992746</td>\n",
              "      <td>1.001509</td>\n",
              "    </tr>\n",
              "    <tr>\n",
              "      <th>6811</th>\n",
              "      <td>1.000221</td>\n",
              "      <td>1.000293</td>\n",
              "      <td>1.000170</td>\n",
              "      <td>1.000496</td>\n",
              "      <td>1.000185</td>\n",
              "      <td>1.000215</td>\n",
              "      <td>1.000107</td>\n",
              "      <td>0.999832</td>\n",
              "      <td>0.999766</td>\n",
              "      <td>0.999886</td>\n",
              "      <td>...</td>\n",
              "      <td>0.996926</td>\n",
              "      <td>0.996905</td>\n",
              "      <td>0.998682</td>\n",
              "      <td>0.999515</td>\n",
              "      <td>0.999946</td>\n",
              "      <td>0.999948</td>\n",
              "      <td>1.000012</td>\n",
              "      <td>0.000437</td>\n",
              "      <td>0.995842</td>\n",
              "      <td>1.000569</td>\n",
              "    </tr>\n",
              "    <tr>\n",
              "      <th>6812</th>\n",
              "      <td>1.000068</td>\n",
              "      <td>1.000005</td>\n",
              "      <td>1.000031</td>\n",
              "      <td>1.000033</td>\n",
              "      <td>0.999948</td>\n",
              "      <td>0.999934</td>\n",
              "      <td>0.999934</td>\n",
              "      <td>0.999871</td>\n",
              "      <td>0.999959</td>\n",
              "      <td>1.000064</td>\n",
              "      <td>...</td>\n",
              "      <td>0.999939</td>\n",
              "      <td>1.000060</td>\n",
              "      <td>0.999922</td>\n",
              "      <td>1.000050</td>\n",
              "      <td>0.999950</td>\n",
              "      <td>1.000003</td>\n",
              "      <td>0.999999</td>\n",
              "      <td>0.000077</td>\n",
              "      <td>0.999763</td>\n",
              "      <td>1.000261</td>\n",
              "    </tr>\n",
              "    <tr>\n",
              "      <th>6813</th>\n",
              "      <td>1.000142</td>\n",
              "      <td>1.000085</td>\n",
              "      <td>0.999859</td>\n",
              "      <td>0.999556</td>\n",
              "      <td>0.996865</td>\n",
              "      <td>0.996872</td>\n",
              "      <td>0.996938</td>\n",
              "      <td>0.996992</td>\n",
              "      <td>0.997073</td>\n",
              "      <td>1.000249</td>\n",
              "      <td>...</td>\n",
              "      <td>1.000175</td>\n",
              "      <td>0.999813</td>\n",
              "      <td>0.999946</td>\n",
              "      <td>0.999950</td>\n",
              "      <td>1.000188</td>\n",
              "      <td>0.999950</td>\n",
              "      <td>1.000025</td>\n",
              "      <td>0.000578</td>\n",
              "      <td>0.994428</td>\n",
              "      <td>1.000433</td>\n",
              "    </tr>\n",
              "  </tbody>\n",
              "</table>\n",
              "<p>9 rows × 1005 columns</p>\n",
              "</div>\n",
              "    <div class=\"colab-df-buttons\">\n",
              "\n",
              "  <div class=\"colab-df-container\">\n",
              "    <button class=\"colab-df-convert\" onclick=\"convertToInteractive('df-3a82db09-4126-40b2-970b-a3d52657d089')\"\n",
              "            title=\"Convert this dataframe to an interactive table.\"\n",
              "            style=\"display:none;\">\n",
              "\n",
              "  <svg xmlns=\"http://www.w3.org/2000/svg\" height=\"24px\" viewBox=\"0 -960 960 960\">\n",
              "    <path d=\"M120-120v-720h720v720H120Zm60-500h600v-160H180v160Zm220 220h160v-160H400v160Zm0 220h160v-160H400v160ZM180-400h160v-160H180v160Zm440 0h160v-160H620v160ZM180-180h160v-160H180v160Zm440 0h160v-160H620v160Z\"/>\n",
              "  </svg>\n",
              "    </button>\n",
              "\n",
              "  <style>\n",
              "    .colab-df-container {\n",
              "      display:flex;\n",
              "      gap: 12px;\n",
              "    }\n",
              "\n",
              "    .colab-df-convert {\n",
              "      background-color: #E8F0FE;\n",
              "      border: none;\n",
              "      border-radius: 50%;\n",
              "      cursor: pointer;\n",
              "      display: none;\n",
              "      fill: #1967D2;\n",
              "      height: 32px;\n",
              "      padding: 0 0 0 0;\n",
              "      width: 32px;\n",
              "    }\n",
              "\n",
              "    .colab-df-convert:hover {\n",
              "      background-color: #E2EBFA;\n",
              "      box-shadow: 0px 1px 2px rgba(60, 64, 67, 0.3), 0px 1px 3px 1px rgba(60, 64, 67, 0.15);\n",
              "      fill: #174EA6;\n",
              "    }\n",
              "\n",
              "    .colab-df-buttons div {\n",
              "      margin-bottom: 4px;\n",
              "    }\n",
              "\n",
              "    [theme=dark] .colab-df-convert {\n",
              "      background-color: #3B4455;\n",
              "      fill: #D2E3FC;\n",
              "    }\n",
              "\n",
              "    [theme=dark] .colab-df-convert:hover {\n",
              "      background-color: #434B5C;\n",
              "      box-shadow: 0px 1px 3px 1px rgba(0, 0, 0, 0.15);\n",
              "      filter: drop-shadow(0px 1px 2px rgba(0, 0, 0, 0.3));\n",
              "      fill: #FFFFFF;\n",
              "    }\n",
              "  </style>\n",
              "\n",
              "    <script>\n",
              "      const buttonEl =\n",
              "        document.querySelector('#df-3a82db09-4126-40b2-970b-a3d52657d089 button.colab-df-convert');\n",
              "      buttonEl.style.display =\n",
              "        google.colab.kernel.accessAllowed ? 'block' : 'none';\n",
              "\n",
              "      async function convertToInteractive(key) {\n",
              "        const element = document.querySelector('#df-3a82db09-4126-40b2-970b-a3d52657d089');\n",
              "        const dataTable =\n",
              "          await google.colab.kernel.invokeFunction('convertToInteractive',\n",
              "                                                    [key], {});\n",
              "        if (!dataTable) return;\n",
              "\n",
              "        const docLinkHtml = 'Like what you see? Visit the ' +\n",
              "          '<a target=\"_blank\" href=https://colab.research.google.com/notebooks/data_table.ipynb>data table notebook</a>'\n",
              "          + ' to learn more about interactive tables.';\n",
              "        element.innerHTML = '';\n",
              "        dataTable['output_type'] = 'display_data';\n",
              "        await google.colab.output.renderOutput(dataTable, element);\n",
              "        const docLink = document.createElement('div');\n",
              "        docLink.innerHTML = docLinkHtml;\n",
              "        element.appendChild(docLink);\n",
              "      }\n",
              "    </script>\n",
              "  </div>\n",
              "\n",
              "\n",
              "<div id=\"df-680a440e-0fe9-4136-94a5-1cb92dc8979d\">\n",
              "  <button class=\"colab-df-quickchart\" onclick=\"quickchart('df-680a440e-0fe9-4136-94a5-1cb92dc8979d')\"\n",
              "            title=\"Suggest charts\"\n",
              "            style=\"display:none;\">\n",
              "\n",
              "<svg xmlns=\"http://www.w3.org/2000/svg\" height=\"24px\"viewBox=\"0 0 24 24\"\n",
              "     width=\"24px\">\n",
              "    <g>\n",
              "        <path d=\"M19 3H5c-1.1 0-2 .9-2 2v14c0 1.1.9 2 2 2h14c1.1 0 2-.9 2-2V5c0-1.1-.9-2-2-2zM9 17H7v-7h2v7zm4 0h-2V7h2v10zm4 0h-2v-4h2v4z\"/>\n",
              "    </g>\n",
              "</svg>\n",
              "  </button>\n",
              "\n",
              "<style>\n",
              "  .colab-df-quickchart {\n",
              "      --bg-color: #E8F0FE;\n",
              "      --fill-color: #1967D2;\n",
              "      --hover-bg-color: #E2EBFA;\n",
              "      --hover-fill-color: #174EA6;\n",
              "      --disabled-fill-color: #AAA;\n",
              "      --disabled-bg-color: #DDD;\n",
              "  }\n",
              "\n",
              "  [theme=dark] .colab-df-quickchart {\n",
              "      --bg-color: #3B4455;\n",
              "      --fill-color: #D2E3FC;\n",
              "      --hover-bg-color: #434B5C;\n",
              "      --hover-fill-color: #FFFFFF;\n",
              "      --disabled-bg-color: #3B4455;\n",
              "      --disabled-fill-color: #666;\n",
              "  }\n",
              "\n",
              "  .colab-df-quickchart {\n",
              "    background-color: var(--bg-color);\n",
              "    border: none;\n",
              "    border-radius: 50%;\n",
              "    cursor: pointer;\n",
              "    display: none;\n",
              "    fill: var(--fill-color);\n",
              "    height: 32px;\n",
              "    padding: 0;\n",
              "    width: 32px;\n",
              "  }\n",
              "\n",
              "  .colab-df-quickchart:hover {\n",
              "    background-color: var(--hover-bg-color);\n",
              "    box-shadow: 0 1px 2px rgba(60, 64, 67, 0.3), 0 1px 3px 1px rgba(60, 64, 67, 0.15);\n",
              "    fill: var(--button-hover-fill-color);\n",
              "  }\n",
              "\n",
              "  .colab-df-quickchart-complete:disabled,\n",
              "  .colab-df-quickchart-complete:disabled:hover {\n",
              "    background-color: var(--disabled-bg-color);\n",
              "    fill: var(--disabled-fill-color);\n",
              "    box-shadow: none;\n",
              "  }\n",
              "\n",
              "  .colab-df-spinner {\n",
              "    border: 2px solid var(--fill-color);\n",
              "    border-color: transparent;\n",
              "    border-bottom-color: var(--fill-color);\n",
              "    animation:\n",
              "      spin 1s steps(1) infinite;\n",
              "  }\n",
              "\n",
              "  @keyframes spin {\n",
              "    0% {\n",
              "      border-color: transparent;\n",
              "      border-bottom-color: var(--fill-color);\n",
              "      border-left-color: var(--fill-color);\n",
              "    }\n",
              "    20% {\n",
              "      border-color: transparent;\n",
              "      border-left-color: var(--fill-color);\n",
              "      border-top-color: var(--fill-color);\n",
              "    }\n",
              "    30% {\n",
              "      border-color: transparent;\n",
              "      border-left-color: var(--fill-color);\n",
              "      border-top-color: var(--fill-color);\n",
              "      border-right-color: var(--fill-color);\n",
              "    }\n",
              "    40% {\n",
              "      border-color: transparent;\n",
              "      border-right-color: var(--fill-color);\n",
              "      border-top-color: var(--fill-color);\n",
              "    }\n",
              "    60% {\n",
              "      border-color: transparent;\n",
              "      border-right-color: var(--fill-color);\n",
              "    }\n",
              "    80% {\n",
              "      border-color: transparent;\n",
              "      border-right-color: var(--fill-color);\n",
              "      border-bottom-color: var(--fill-color);\n",
              "    }\n",
              "    90% {\n",
              "      border-color: transparent;\n",
              "      border-bottom-color: var(--fill-color);\n",
              "    }\n",
              "  }\n",
              "</style>\n",
              "\n",
              "  <script>\n",
              "    async function quickchart(key) {\n",
              "      const quickchartButtonEl =\n",
              "        document.querySelector('#' + key + ' button');\n",
              "      quickchartButtonEl.disabled = true;  // To prevent multiple clicks.\n",
              "      quickchartButtonEl.classList.add('colab-df-spinner');\n",
              "      try {\n",
              "        const charts = await google.colab.kernel.invokeFunction(\n",
              "            'suggestCharts', [key], {});\n",
              "      } catch (error) {\n",
              "        console.error('Error during call to suggestCharts:', error);\n",
              "      }\n",
              "      quickchartButtonEl.classList.remove('colab-df-spinner');\n",
              "      quickchartButtonEl.classList.add('colab-df-quickchart-complete');\n",
              "    }\n",
              "    (() => {\n",
              "      let quickchartButtonEl =\n",
              "        document.querySelector('#df-680a440e-0fe9-4136-94a5-1cb92dc8979d button');\n",
              "      quickchartButtonEl.style.display =\n",
              "        google.colab.kernel.accessAllowed ? 'block' : 'none';\n",
              "    })();\n",
              "  </script>\n",
              "</div>\n",
              "\n",
              "    </div>\n",
              "  </div>\n"
            ]
          },
          "metadata": {},
          "execution_count": 5
        }
      ],
      "source": [
        "df_fill = df.fillna(df.mean()) # handle missing values\n",
        "\n",
        "df_fill_x = df_fill.drop(columns = ['kepid', 'label'])\n",
        "row_mean = df_fill_x.mean(axis=1)\n",
        "row_median = df_fill_x.median(axis=1)\n",
        "row_min = df_fill_x.min(axis=1)\n",
        "row_max = df_fill_x.max(axis=1)\n",
        "row_std = df_fill_x.std(axis = 1)\n",
        "\n",
        "df_fill['row_mean'] = row_mean\n",
        "df_fill['row_median'] = row_median\n",
        "df_fill['row_std'] = row_std\n",
        "df_fill['row_min'] = row_min\n",
        "df_fill['row_max'] = row_max\n",
        "\n",
        "\n",
        "X = df_fill.drop(columns=['kepid', 'label'])\n",
        "y = df_fill['label']\n",
        "\n",
        "X.tail(9)"
      ]
    },
    {
      "cell_type": "code",
      "execution_count": 6,
      "metadata": {
        "colab": {
          "base_uri": "https://localhost:8080/"
        },
        "id": "OFWyteT-B_DB",
        "outputId": "0a4f2f7c-3f72-4453-f4fb-ee843ba84f97"
      },
      "outputs": [
        {
          "output_type": "stream",
          "name": "stdout",
          "text": [
            "X_train.shape: (5451, 1005)\n",
            "X_test.shape: (1363, 1005)\n"
          ]
        }
      ],
      "source": [
        "X_train, X_test, y_train, y_test = train_test_split(\n",
        "    X, y, test_size=0.2, random_state=34\n",
        ")\n",
        "\n",
        "print(f'X_train.shape: {X_train.shape}')\n",
        "print(f'X_test.shape: {X_test.shape}')"
      ]
    },
    {
      "cell_type": "code",
      "execution_count": 7,
      "metadata": {
        "colab": {
          "base_uri": "https://localhost:8080/"
        },
        "id": "YH6o9T0TvDM9",
        "outputId": "75001df3-d30a-40b6-918c-ea64dd719082"
      },
      "outputs": [
        {
          "output_type": "stream",
          "name": "stdout",
          "text": [
            "1.0    904\n",
            "0.0    459\n",
            "Name: label, dtype: int64\n"
          ]
        }
      ],
      "source": [
        "class_counts = y_test.value_counts()\n",
        "print(class_counts)"
      ]
    },
    {
      "cell_type": "code",
      "execution_count": 8,
      "metadata": {
        "id": "HloOGV4ZCi_z"
      },
      "outputs": [],
      "source": [
        "scaler = StandardScaler()\n",
        "X_train_scaled = scaler.fit_transform(X_train)\n",
        "X_test_scaled = scaler.fit_transform(X_test)"
      ]
    },
    {
      "cell_type": "markdown",
      "metadata": {
        "id": "tlYCRtknKsjY"
      },
      "source": [
        "## Model: Scikit Learn's RandomForestClassifier"
      ]
    },
    {
      "cell_type": "code",
      "execution_count": 9,
      "metadata": {
        "colab": {
          "base_uri": "https://localhost:8080/",
          "height": 93
        },
        "id": "m0uGWMFlC04f",
        "outputId": "de0bf032-a72b-46ab-80b3-0718b68d42f4"
      },
      "outputs": [
        {
          "output_type": "stream",
          "name": "stderr",
          "text": [
            "[Parallel(n_jobs=1)]: Done  49 tasks      | elapsed:   13.3s\n"
          ]
        },
        {
          "output_type": "execute_result",
          "data": {
            "text/plain": [
              "RandomForestClassifier(max_depth=23, random_state=34, verbose=1)"
            ],
            "text/html": [
              "<style>#sk-container-id-1 {color: black;background-color: white;}#sk-container-id-1 pre{padding: 0;}#sk-container-id-1 div.sk-toggleable {background-color: white;}#sk-container-id-1 label.sk-toggleable__label {cursor: pointer;display: block;width: 100%;margin-bottom: 0;padding: 0.3em;box-sizing: border-box;text-align: center;}#sk-container-id-1 label.sk-toggleable__label-arrow:before {content: \"▸\";float: left;margin-right: 0.25em;color: #696969;}#sk-container-id-1 label.sk-toggleable__label-arrow:hover:before {color: black;}#sk-container-id-1 div.sk-estimator:hover label.sk-toggleable__label-arrow:before {color: black;}#sk-container-id-1 div.sk-toggleable__content {max-height: 0;max-width: 0;overflow: hidden;text-align: left;background-color: #f0f8ff;}#sk-container-id-1 div.sk-toggleable__content pre {margin: 0.2em;color: black;border-radius: 0.25em;background-color: #f0f8ff;}#sk-container-id-1 input.sk-toggleable__control:checked~div.sk-toggleable__content {max-height: 200px;max-width: 100%;overflow: auto;}#sk-container-id-1 input.sk-toggleable__control:checked~label.sk-toggleable__label-arrow:before {content: \"▾\";}#sk-container-id-1 div.sk-estimator input.sk-toggleable__control:checked~label.sk-toggleable__label {background-color: #d4ebff;}#sk-container-id-1 div.sk-label input.sk-toggleable__control:checked~label.sk-toggleable__label {background-color: #d4ebff;}#sk-container-id-1 input.sk-hidden--visually {border: 0;clip: rect(1px 1px 1px 1px);clip: rect(1px, 1px, 1px, 1px);height: 1px;margin: -1px;overflow: hidden;padding: 0;position: absolute;width: 1px;}#sk-container-id-1 div.sk-estimator {font-family: monospace;background-color: #f0f8ff;border: 1px dotted black;border-radius: 0.25em;box-sizing: border-box;margin-bottom: 0.5em;}#sk-container-id-1 div.sk-estimator:hover {background-color: #d4ebff;}#sk-container-id-1 div.sk-parallel-item::after {content: \"\";width: 100%;border-bottom: 1px solid gray;flex-grow: 1;}#sk-container-id-1 div.sk-label:hover label.sk-toggleable__label {background-color: #d4ebff;}#sk-container-id-1 div.sk-serial::before {content: \"\";position: absolute;border-left: 1px solid gray;box-sizing: border-box;top: 0;bottom: 0;left: 50%;z-index: 0;}#sk-container-id-1 div.sk-serial {display: flex;flex-direction: column;align-items: center;background-color: white;padding-right: 0.2em;padding-left: 0.2em;position: relative;}#sk-container-id-1 div.sk-item {position: relative;z-index: 1;}#sk-container-id-1 div.sk-parallel {display: flex;align-items: stretch;justify-content: center;background-color: white;position: relative;}#sk-container-id-1 div.sk-item::before, #sk-container-id-1 div.sk-parallel-item::before {content: \"\";position: absolute;border-left: 1px solid gray;box-sizing: border-box;top: 0;bottom: 0;left: 50%;z-index: -1;}#sk-container-id-1 div.sk-parallel-item {display: flex;flex-direction: column;z-index: 1;position: relative;background-color: white;}#sk-container-id-1 div.sk-parallel-item:first-child::after {align-self: flex-end;width: 50%;}#sk-container-id-1 div.sk-parallel-item:last-child::after {align-self: flex-start;width: 50%;}#sk-container-id-1 div.sk-parallel-item:only-child::after {width: 0;}#sk-container-id-1 div.sk-dashed-wrapped {border: 1px dashed gray;margin: 0 0.4em 0.5em 0.4em;box-sizing: border-box;padding-bottom: 0.4em;background-color: white;}#sk-container-id-1 div.sk-label label {font-family: monospace;font-weight: bold;display: inline-block;line-height: 1.2em;}#sk-container-id-1 div.sk-label-container {text-align: center;}#sk-container-id-1 div.sk-container {/* jupyter's `normalize.less` sets `[hidden] { display: none; }` but bootstrap.min.css set `[hidden] { display: none !important; }` so we also need the `!important` here to be able to override the default hidden behavior on the sphinx rendered scikit-learn.org. See: https://github.com/scikit-learn/scikit-learn/issues/21755 */display: inline-block !important;position: relative;}#sk-container-id-1 div.sk-text-repr-fallback {display: none;}</style><div id=\"sk-container-id-1\" class=\"sk-top-container\"><div class=\"sk-text-repr-fallback\"><pre>RandomForestClassifier(max_depth=23, random_state=34, verbose=1)</pre><b>In a Jupyter environment, please rerun this cell to show the HTML representation or trust the notebook. <br />On GitHub, the HTML representation is unable to render, please try loading this page with nbviewer.org.</b></div><div class=\"sk-container\" hidden><div class=\"sk-item\"><div class=\"sk-estimator sk-toggleable\"><input class=\"sk-toggleable__control sk-hidden--visually\" id=\"sk-estimator-id-1\" type=\"checkbox\" checked><label for=\"sk-estimator-id-1\" class=\"sk-toggleable__label sk-toggleable__label-arrow\">RandomForestClassifier</label><div class=\"sk-toggleable__content\"><pre>RandomForestClassifier(max_depth=23, random_state=34, verbose=1)</pre></div></div></div></div></div>"
            ]
          },
          "metadata": {},
          "execution_count": 9
        }
      ],
      "source": [
        "# Create RandomForestClassifier\n",
        "clf = RandomForestClassifier(max_depth=23, # maximum depth of the tree\n",
        "                             n_estimators=100, # n trees in the forest\n",
        "                             min_samples_leaf=1, # minimum n samples requred to be at a leaf node\n",
        "                             max_features='sqrt', # n features to consider when looking for best split\n",
        "                             random_state=34, # randomness in sampling of features to consider when looking for best split at each node\n",
        "                             verbose=1)\n",
        "\n",
        "# Train\n",
        "clf.fit(X_train_scaled, y_train)"
      ]
    },
    {
      "cell_type": "code",
      "execution_count": 10,
      "metadata": {
        "colab": {
          "base_uri": "https://localhost:8080/"
        },
        "id": "0d1XL6qWGSWu",
        "outputId": "8e2dbe52-8904-4a57-f590-f80e80a4f5fe"
      },
      "outputs": [
        {
          "output_type": "stream",
          "name": "stderr",
          "text": [
            "[Parallel(n_jobs=1)]: Done  49 tasks      | elapsed:    0.1s\n",
            "[Parallel(n_jobs=1)]: Done  49 tasks      | elapsed:    0.0s\n"
          ]
        }
      ],
      "source": [
        "# Make preditions on the training set\n",
        "y_train_pred = clf.predict(X_train_scaled)\n",
        "train_accuracy = accuracy_score(y_train, y_train_pred)\n",
        "\n",
        "# Make predictions on the validation set\n",
        "y_val_pred = clf.predict(X_test_scaled)\n",
        "test_accuracy = accuracy_score(y_test, y_val_pred)"
      ]
    },
    {
      "cell_type": "code",
      "execution_count": 11,
      "metadata": {
        "colab": {
          "base_uri": "https://localhost:8080/"
        },
        "id": "aOxRJMr4Gcs1",
        "outputId": "276cfede-ff3d-48d0-973f-fb94bd51b1a1"
      },
      "outputs": [
        {
          "output_type": "execute_result",
          "data": {
            "text/plain": [
              "0.8268525311812179"
            ]
          },
          "metadata": {},
          "execution_count": 11
        }
      ],
      "source": [
        "test_accuracy"
      ]
    },
    {
      "cell_type": "code",
      "execution_count": 12,
      "metadata": {
        "colab": {
          "base_uri": "https://localhost:8080/"
        },
        "id": "EfAW_cGjGjEJ",
        "outputId": "3075fce0-db85-40f4-9a0e-68df284a058f"
      },
      "outputs": [
        {
          "output_type": "execute_result",
          "data": {
            "text/plain": [
              "0.9983489268024216"
            ]
          },
          "metadata": {},
          "execution_count": 12
        }
      ],
      "source": [
        "train_accuracy"
      ]
    },
    {
      "cell_type": "code",
      "execution_count": 16,
      "metadata": {
        "colab": {
          "base_uri": "https://localhost:8080/",
          "height": 655
        },
        "id": "F9ynx5VYGkaY",
        "outputId": "201a5f64-f34d-4b05-a8a3-72cab76b8dfc"
      },
      "outputs": [
        {
          "output_type": "stream",
          "name": "stdout",
          "text": [
            "Confusion Matrix - Test Set Predictions\n"
          ]
        },
        {
          "output_type": "execute_result",
          "data": {
            "text/plain": [
              "<Axes: xlabel='Predicted', ylabel='Actual'>"
            ]
          },
          "metadata": {},
          "execution_count": 16
        },
        {
          "output_type": "display_data",
          "data": {
            "text/plain": [
              "<Figure size 1000x700 with 2 Axes>"
            ],
            "image/png": "[encoded data removed]"
          },
          "metadata": {}
        }
      ],
      "source": [
        "from sklearn.metrics import confusion_matrix\n",
        "\n",
        "print('Confusion Matrix - Test Set Predictions')\n",
        "matrix = confusion_matrix(y_test, y_val_pred)\n",
        "df_cm = pd.DataFrame(matrix, columns=np.unique(y_test), index = np.unique(y_test))\n",
        "df_cm.index.name = 'Actual'\n",
        "df_cm.columns.name = 'Predicted'\n",
        "plt.figure(figsize=(10, 7))\n",
        "sns.heatmap(df_cm, cmap='coolwarm', annot=True)"
      ]
    },
    {
      "cell_type": "code",
      "execution_count": 17,
      "metadata": {
        "colab": {
          "base_uri": "https://localhost:8080/"
        },
        "id": "Hq4ho-GSns6d",
        "outputId": "12cd6581-1efe-4df8-cf94-69e7a8ceb10b"
      },
      "outputs": [
        {
          "output_type": "stream",
          "name": "stdout",
          "text": [
            "Classification Report - Test Set Predictions: RandomForestClassifier(max_depth=11, random_state=34)]\n",
            "\n",
            "              precision    recall  f1-score   support\n",
            "\n",
            "         0.0       0.86      0.58      0.69       459\n",
            "         1.0       0.82      0.95      0.88       904\n",
            "\n",
            "    accuracy                           0.83      1363\n",
            "   macro avg       0.84      0.77      0.79      1363\n",
            "weighted avg       0.83      0.83      0.82      1363\n",
            "\n"
          ]
        }
      ],
      "source": [
        "from sklearn.metrics import classification_report\n",
        "print(f'Classification Report - Test Set Predictions: {clf}]\\n')\n",
        "print(f'{classification_report(y_test, y_val_pred)}')"
      ]
    },
    {
      "cell_type": "markdown",
      "metadata": {
        "id": "caluqoammh5f"
      },
      "source": [
        "## Hyperparameter Tuning\n",
        "- train_accuracy of 1 indicates overfitting."
      ]
    },
    {
      "cell_type": "code",
      "execution_count": 19,
      "metadata": {
        "colab": {
          "base_uri": "https://localhost:8080/",
          "height": 582
        },
        "id": "5_j30dWVmgu-",
        "outputId": "d44161a8-1741-40c9-eb62-ae63720d7f1c"
      },
      "outputs": [
        {
          "output_type": "execute_result",
          "data": {
            "text/plain": [
              "<function matplotlib.pyplot.show(close=None, block=None)>"
            ]
          },
          "metadata": {},
          "execution_count": 19
        },
        {
          "output_type": "display_data",
          "data": {
            "text/plain": [
              "<Figure size 800x600 with 1 Axes>"
            ],
            "image/png": "[encoded data removed]"
          },
          "metadata": {}
        }
      ],
      "source": [
        "max_depth_values = range(1, 30)\n",
        "train_accuracy_scores_md = []\n",
        "test_accuracy_scores_md = []\n",
        "\n",
        "for max_depth in max_depth_values:\n",
        "  clf = RandomForestClassifier(max_depth=max_depth, random_state=34)\n",
        "  clf.fit(X_train_scaled, y_train)\n",
        "\n",
        "  # make predictions on the training set\n",
        "  y_train_pred = clf.predict(X_train_scaled)\n",
        "\n",
        "  train_accuracy_scores_md.append(accuracy_score(y_train, y_train_pred))\n",
        "\n",
        "  # make predictions on the test set\n",
        "  y_test_pred = clf.predict(X_test_scaled)\n",
        "  test_accuracy_scores_md.append(accuracy_score(y_test, y_test_pred))\n",
        "\n",
        "plt.figure(figsize = (8, 6))\n",
        "plt.plot(max_depth_values, train_accuracy_scores_md, linestyle='-', label='training set')\n",
        "plt.plot(max_depth_values, test_accuracy_scores_md, linestyle='-', label='validation set')\n",
        "plt.title('RandomForestClassifier Accuracy vs. max_depth Value')\n",
        "plt.xlabel('max_depth value')\n",
        "plt.ylabel('classification accuracy')\n",
        "plt.legend()\n",
        "plt.show\n"
      ]
    },
    {
      "cell_type": "code",
      "execution_count": 20,
      "metadata": {
        "colab": {
          "base_uri": "https://localhost:8080/",
          "height": 582
        },
        "id": "KdohqAhEsTiK",
        "outputId": "fd8210c7-cc63-45b1-ac94-6422be324381"
      },
      "outputs": [
        {
          "output_type": "execute_result",
          "data": {
            "text/plain": [
              "<function matplotlib.pyplot.show(close=None, block=None)>"
            ]
          },
          "metadata": {},
          "execution_count": 20
        },
        {
          "output_type": "display_data",
          "data": {
            "text/plain": [
              "<Figure size 800x600 with 1 Axes>"
            ],
            "image/png": "[encoded data removed]"
          },
          "metadata": {}
        }
      ],
      "source": [
        "min_samples_leaf_values = range(1, 30)\n",
        "train_accuracy_scores_leaf = []\n",
        "test_accuracy_scores_leaf = []\n",
        "\n",
        "for min_samples_leaf in min_samples_leaf_values:\n",
        "  clf = RandomForestClassifier(min_samples_leaf=min_samples_leaf, random_state=34)\n",
        "  clf.fit(X_train_scaled, y_train)\n",
        "\n",
        "  # make predictions on the training set\n",
        "  y_train_pred = clf.predict(X_train_scaled)\n",
        "\n",
        "  train_accuracy_scores_leaf.append(accuracy_score(y_train, y_train_pred))\n",
        "\n",
        "  # make predictions on the test set\n",
        "  y_test_pred = clf.predict(X_test_scaled)\n",
        "  test_accuracy_scores_leaf.append(accuracy_score(y_test, y_test_pred))\n",
        "\n",
        "plt.figure(figsize = (8, 6))\n",
        "plt.plot(min_samples_leaf_values, train_accuracy_scores_leaf, linestyle='-', label='training set')\n",
        "plt.plot(min_samples_leaf_values, test_accuracy_scores_leaf, linestyle='-', label='validation set')\n",
        "plt.title('RandomForestClassifier Accuracy vs. min_samples_leaf Value')\n",
        "plt.xlabel('min_samples_leaf value')\n",
        "plt.ylabel('classification accuracy')\n",
        "plt.legend()\n",
        "plt.show"
      ]
    },
    {
      "cell_type": "code",
      "execution_count": 21,
      "metadata": {
        "colab": {
          "base_uri": "https://localhost:8080/",
          "height": 582
        },
        "id": "CEx0XiEiqqkC",
        "outputId": "f8472da0-ca55-4f7c-9deb-deb2c43b60f2"
      },
      "outputs": [
        {
          "output_type": "execute_result",
          "data": {
            "text/plain": [
              "<function matplotlib.pyplot.show(close=None, block=None)>"
            ]
          },
          "metadata": {},
          "execution_count": 21
        },
        {
          "output_type": "display_data",
          "data": {
            "text/plain": [
              "<Figure size 800x600 with 1 Axes>"
            ],
            "image/png": "[encoded data removed]"
          },
          "metadata": {}
        }
      ],
      "source": [
        "n_estimators_values = range(1, 30)\n",
        "train_accuracy_scores_est = []\n",
        "test_accuracy_scores_est = []\n",
        "\n",
        "for n_estimators in n_estimators_values:\n",
        "  clf = RandomForestClassifier(n_estimators=n_estimators, random_state=34)\n",
        "  clf.fit(X_train_scaled, y_train)\n",
        "\n",
        "  y_train_pred = clf.predict(X_train_scaled)\n",
        "  train_accuracy_scores_est.append(accuracy_score(y_train, y_train_pred))\n",
        "\n",
        "  y_test_pred = clf.predict(X_test_scaled)\n",
        "  test_accuracy_scores_est.append(accuracy_score(y_test, y_test_pred))\n",
        "\n",
        "plt.figure(figsize = (8, 6))\n",
        "plt.plot(n_estimators_values, train_accuracy_scores_est, linestyle='-', label='training set')\n",
        "plt.plot(n_estimators_values, test_accuracy_scores_est, linestyle='-', label='validation set')\n",
        "plt.title('Accuracy Score vs n_estimators Value')\n",
        "plt.xlabel('n_estimators value')\n",
        "plt.ylabel('classification accuracy')\n",
        "plt.legend()\n",
        "plt.show"
      ]
    },
    {
      "cell_type": "code",
      "execution_count": 22,
      "metadata": {
        "colab": {
          "base_uri": "https://localhost:8080/",
          "height": 582
        },
        "id": "6i8JWgd7RKDV",
        "outputId": "349c8e6d-9552-4ec3-fd63-55164ed6ddd7"
      },
      "outputs": [
        {
          "output_type": "execute_result",
          "data": {
            "text/plain": [
              "<function matplotlib.pyplot.show(close=None, block=None)>"
            ]
          },
          "metadata": {},
          "execution_count": 22
        },
        {
          "output_type": "display_data",
          "data": {
            "text/plain": [
              "<Figure size 800x600 with 1 Axes>"
            ],
            "image/png": "[encoded data removed]"
          },
          "metadata": {}
        }
      ],
      "source": [
        "# Using the best results from the previous steps\n",
        "train_accuracy_scores_est = []\n",
        "test_accuracy_scores_est = []\n",
        "\n",
        "for n_estimators in n_estimators_values:\n",
        "  # Create RandomForestClassifier\n",
        "  clf = RandomForestClassifier(max_depth=21, # maximum depth of the tree\n",
        "                             n_estimators=n_estimators, # n trees in the forest\n",
        "                             min_samples_leaf=50, # minimum n samples requred to be at a leaf node\n",
        "                             max_features='sqrt', # n features to consider when looking for best split\n",
        "                             random_state=34, # randomness in sampling of features to consider when looking for best split at each node\n",
        "                             verbose=1)\n",
        "  clf.fit(X_train_scaled, y_train)\n",
        "\n",
        "  y_train_pred = clf.predict(X_train_scaled)\n",
        "  train_accuracy_scores_est.append(accuracy_score(y_train, y_train_pred))\n",
        "\n",
        "  y_test_pred = clf.predict(X_test_scaled)\n",
        "  test_accuracy_scores_est.append(accuracy_score(y_test, y_test_pred))\n",
        "\n",
        "plt.figure(figsize = (8, 6))\n",
        "plt.plot(n_estimators_values, train_accuracy_scores_est, linestyle='-', label='training set')\n",
        "plt.plot(n_estimators_values, test_accuracy_scores_est, linestyle='-', label='validation set')\n",
        "plt.title('Accuracy Score vs n_estimators Value')\n",
        "plt.xlabel('n_estimators value')\n",
        "plt.ylabel('classification accuracy')\n",
        "plt.legend()\n",
        "plt.show"
      ]
    },
    {
      "cell_type": "code",
      "execution_count": 23,
      "metadata": {
        "colab": {
          "base_uri": "https://localhost:8080/",
          "height": 92
        },
        "id": "bxkFUhXrwLfk",
        "outputId": "10ea0049-afe9-4756-a9b0-aef9febdc0e3"
      },
      "outputs": [
        {
          "output_type": "execute_result",
          "data": {
            "text/plain": [
              "RandomForestClassifier(max_depth=21, min_samples_leaf=50, n_estimators=23,\n",
              "                       random_state=34, verbose=1)"
            ],
            "text/html": [
              "<style>#sk-container-id-2 {color: black;background-color: white;}#sk-container-id-2 pre{padding: 0;}#sk-container-id-2 div.sk-toggleable {background-color: white;}#sk-container-id-2 label.sk-toggleable__label {cursor: pointer;display: block;width: 100%;margin-bottom: 0;padding: 0.3em;box-sizing: border-box;text-align: center;}#sk-container-id-2 label.sk-toggleable__label-arrow:before {content: \"▸\";float: left;margin-right: 0.25em;color: #696969;}#sk-container-id-2 label.sk-toggleable__label-arrow:hover:before {color: black;}#sk-container-id-2 div.sk-estimator:hover label.sk-toggleable__label-arrow:before {color: black;}#sk-container-id-2 div.sk-toggleable__content {max-height: 0;max-width: 0;overflow: hidden;text-align: left;background-color: #f0f8ff;}#sk-container-id-2 div.sk-toggleable__content pre {margin: 0.2em;color: black;border-radius: 0.25em;background-color: #f0f8ff;}#sk-container-id-2 input.sk-toggleable__control:checked~div.sk-toggleable__content {max-height: 200px;max-width: 100%;overflow: auto;}#sk-container-id-2 input.sk-toggleable__control:checked~label.sk-toggleable__label-arrow:before {content: \"▾\";}#sk-container-id-2 div.sk-estimator input.sk-toggleable__control:checked~label.sk-toggleable__label {background-color: #d4ebff;}#sk-container-id-2 div.sk-label input.sk-toggleable__control:checked~label.sk-toggleable__label {background-color: #d4ebff;}#sk-container-id-2 input.sk-hidden--visually {border: 0;clip: rect(1px 1px 1px 1px);clip: rect(1px, 1px, 1px, 1px);height: 1px;margin: -1px;overflow: hidden;padding: 0;position: absolute;width: 1px;}#sk-container-id-2 div.sk-estimator {font-family: monospace;background-color: #f0f8ff;border: 1px dotted black;border-radius: 0.25em;box-sizing: border-box;margin-bottom: 0.5em;}#sk-container-id-2 div.sk-estimator:hover {background-color: #d4ebff;}#sk-container-id-2 div.sk-parallel-item::after {content: \"\";width: 100%;border-bottom: 1px solid gray;flex-grow: 1;}#sk-container-id-2 div.sk-label:hover label.sk-toggleable__label {background-color: #d4ebff;}#sk-container-id-2 div.sk-serial::before {content: \"\";position: absolute;border-left: 1px solid gray;box-sizing: border-box;top: 0;bottom: 0;left: 50%;z-index: 0;}#sk-container-id-2 div.sk-serial {display: flex;flex-direction: column;align-items: center;background-color: white;padding-right: 0.2em;padding-left: 0.2em;position: relative;}#sk-container-id-2 div.sk-item {position: relative;z-index: 1;}#sk-container-id-2 div.sk-parallel {display: flex;align-items: stretch;justify-content: center;background-color: white;position: relative;}#sk-container-id-2 div.sk-item::before, #sk-container-id-2 div.sk-parallel-item::before {content: \"\";position: absolute;border-left: 1px solid gray;box-sizing: border-box;top: 0;bottom: 0;left: 50%;z-index: -1;}#sk-container-id-2 div.sk-parallel-item {display: flex;flex-direction: column;z-index: 1;position: relative;background-color: white;}#sk-container-id-2 div.sk-parallel-item:first-child::after {align-self: flex-end;width: 50%;}#sk-container-id-2 div.sk-parallel-item:last-child::after {align-self: flex-start;width: 50%;}#sk-container-id-2 div.sk-parallel-item:only-child::after {width: 0;}#sk-container-id-2 div.sk-dashed-wrapped {border: 1px dashed gray;margin: 0 0.4em 0.5em 0.4em;box-sizing: border-box;padding-bottom: 0.4em;background-color: white;}#sk-container-id-2 div.sk-label label {font-family: monospace;font-weight: bold;display: inline-block;line-height: 1.2em;}#sk-container-id-2 div.sk-label-container {text-align: center;}#sk-container-id-2 div.sk-container {/* jupyter's `normalize.less` sets `[hidden] { display: none; }` but bootstrap.min.css set `[hidden] { display: none !important; }` so we also need the `!important` here to be able to override the default hidden behavior on the sphinx rendered scikit-learn.org. See: https://github.com/scikit-learn/scikit-learn/issues/21755 */display: inline-block !important;position: relative;}#sk-container-id-2 div.sk-text-repr-fallback {display: none;}</style><div id=\"sk-container-id-2\" class=\"sk-top-container\"><div class=\"sk-text-repr-fallback\"><pre>RandomForestClassifier(max_depth=21, min_samples_leaf=50, n_estimators=23,\n",
              "                       random_state=34, verbose=1)</pre><b>In a Jupyter environment, please rerun this cell to show the HTML representation or trust the notebook. <br />On GitHub, the HTML representation is unable to render, please try loading this page with nbviewer.org.</b></div><div class=\"sk-container\" hidden><div class=\"sk-item\"><div class=\"sk-estimator sk-toggleable\"><input class=\"sk-toggleable__control sk-hidden--visually\" id=\"sk-estimator-id-2\" type=\"checkbox\" checked><label for=\"sk-estimator-id-2\" class=\"sk-toggleable__label sk-toggleable__label-arrow\">RandomForestClassifier</label><div class=\"sk-toggleable__content\"><pre>RandomForestClassifier(max_depth=21, min_samples_leaf=50, n_estimators=23,\n",
              "                       random_state=34, verbose=1)</pre></div></div></div></div></div>"
            ]
          },
          "metadata": {},
          "execution_count": 23
        }
      ],
      "source": [
        "# Create RandomForestClassifier\n",
        "model = RandomForestClassifier(max_depth=21, # maximum depth of the tree\n",
        "                             n_estimators=23, # n trees in the forest\n",
        "                             min_samples_leaf=50, # minimum n samples requred to be at a leaf node\n",
        "                             max_features='sqrt', # n features to consider when looking for best split\n",
        "                             random_state=34, # randomness in sampling of features to consider when looking for best split at each node\n",
        "                             verbose=1)\n",
        "\n",
        "# Train\n",
        "model.fit(X_train_scaled, y_train)"
      ]
    },
    {
      "cell_type": "code",
      "execution_count": 24,
      "metadata": {
        "id": "cFGfP5CHwY2C"
      },
      "outputs": [],
      "source": [
        "# Make preditions on the training set\n",
        "y_train_pred = model.predict(X_train_scaled)\n",
        "train_accuracy = accuracy_score(y_train, y_train_pred)\n",
        "\n",
        "# Make predictions on the validation set\n",
        "y_val_pred = model.predict(X_test_scaled)\n",
        "test_accuracy = accuracy_score(y_test, y_val_pred)"
      ]
    },
    {
      "cell_type": "code",
      "execution_count": 25,
      "metadata": {
        "colab": {
          "base_uri": "https://localhost:8080/"
        },
        "id": "xzexecmtwZqb",
        "outputId": "283bda96-58de-4270-c35d-5d3716b0929c"
      },
      "outputs": [
        {
          "output_type": "stream",
          "name": "stdout",
          "text": [
            "Train Accuracy: 0.8624105668684645\n",
            "Test Accuracy: 0.8297872340425532\n"
          ]
        }
      ],
      "source": [
        "print(f'Train Accuracy: {train_accuracy}')\n",
        "print(f'Test Accuracy: {test_accuracy}')"
      ]
    },
    {
      "cell_type": "code",
      "execution_count": 26,
      "metadata": {
        "colab": {
          "base_uri": "https://localhost:8080/",
          "height": 655
        },
        "id": "0EP8pfumsN-f",
        "outputId": "516602a8-f509-4ff1-d7eb-b7e7092ef6b2"
      },
      "outputs": [
        {
          "output_type": "stream",
          "name": "stdout",
          "text": [
            "Confusion Matrix\n"
          ]
        },
        {
          "output_type": "execute_result",
          "data": {
            "text/plain": [
              "<Axes: xlabel='Predicted', ylabel='Actual'>"
            ]
          },
          "metadata": {},
          "execution_count": 26
        },
        {
          "output_type": "display_data",
          "data": {
            "text/plain": [
              "<Figure size 1000x700 with 2 Axes>"
            ],
            "image/png": "[encoded data removed]"
          },
          "metadata": {}
        }
      ],
      "source": [
        "from sklearn.metrics import confusion_matrix\n",
        "\n",
        "print('Confusion Matrix')\n",
        "matrix = confusion_matrix(y_test, y_val_pred)\n",
        "df_cm = pd.DataFrame(matrix, columns=np.unique(y_test), index = np.unique(y_test))\n",
        "df_cm.index.name = 'Actual'\n",
        "df_cm.columns.name = 'Predicted'\n",
        "plt.figure(figsize=(10, 7))\n",
        "sns.heatmap(df_cm, cmap='coolwarm', annot=True)"
      ]
    },
    {
      "cell_type": "code",
      "execution_count": 27,
      "metadata": {
        "colab": {
          "base_uri": "https://localhost:8080/"
        },
        "id": "K68R18aiqUy3",
        "outputId": "7d3c4827-5223-479f-d291-03b42197df24"
      },
      "outputs": [
        {
          "output_type": "stream",
          "name": "stdout",
          "text": [
            "Classification Report: RandomForestClassifier(max_depth=21, min_samples_leaf=50, n_estimators=23,\n",
            "                       random_state=34, verbose=1)]\n",
            "\n",
            "              precision    recall  f1-score   support\n",
            "\n",
            "         0.0       0.90      0.56      0.69       459\n",
            "         1.0       0.81      0.97      0.88       904\n",
            "\n",
            "    accuracy                           0.83      1363\n",
            "   macro avg       0.85      0.76      0.79      1363\n",
            "weighted avg       0.84      0.83      0.82      1363\n",
            "\n"
          ]
        }
      ],
      "source": [
        "from sklearn.metrics import classification_report\n",
        "print(f'Classification Report: {model}]\\n')\n",
        "print(f'{classification_report(y_test, y_val_pred)}')"
      ]
    },
    {
      "cell_type": "markdown",
      "metadata": {
        "id": "V6Mt1Aoq5VQ_"
      },
      "source": [
        "Evaluate model performance over entire dataset"
      ]
    },
    {
      "cell_type": "code",
      "execution_count": 28,
      "metadata": {
        "colab": {
          "base_uri": "https://localhost:8080/"
        },
        "id": "KLyQtxL8qVa2",
        "outputId": "a2841af7-61be-4ae6-e575-99e53eb6813a"
      },
      "outputs": [
        {
          "output_type": "execute_result",
          "data": {
            "text/plain": [
              "(6814, 1005)"
            ]
          },
          "metadata": {},
          "execution_count": 28
        }
      ],
      "source": [
        "X_scaled = scaler.fit_transform(X)\n",
        "\n",
        "X_scaled.shape"
      ]
    },
    {
      "cell_type": "code",
      "execution_count": 29,
      "metadata": {
        "colab": {
          "base_uri": "https://localhost:8080/"
        },
        "id": "gm6Arxxi6JRy",
        "outputId": "d215de14-6ca0-443b-cbe4-4dc94a46bb6a"
      },
      "outputs": [
        {
          "output_type": "stream",
          "name": "stdout",
          "text": [
            "Model Accuracy: 0.8498679189903141\n"
          ]
        }
      ],
      "source": [
        "y_pred = model.predict(X_scaled)\n",
        "accuracy = accuracy_score(y, y_pred)\n",
        "\n",
        "print(f\"Model Accuracy: {accuracy}\")"
      ]
    },
    {
      "cell_type": "code",
      "execution_count": 30,
      "metadata": {
        "colab": {
          "base_uri": "https://localhost:8080/",
          "height": 655
        },
        "id": "vBtb2cNP6caN",
        "outputId": "4240366f-9ce6-4cac-c1eb-5ea1b9806794"
      },
      "outputs": [
        {
          "output_type": "stream",
          "name": "stdout",
          "text": [
            "Confusion Matrix\n"
          ]
        },
        {
          "output_type": "execute_result",
          "data": {
            "text/plain": [
              "<Axes: xlabel='Predicted', ylabel='Actual'>"
            ]
          },
          "metadata": {},
          "execution_count": 30
        },
        {
          "output_type": "display_data",
          "data": {
            "text/plain": [
              "<Figure size 1000x700 with 2 Axes>"
            ],
            "image/png": "[encoded data removed]"
          },
          "metadata": {}
        }
      ],
      "source": [
        "print('Confusion Matrix')\n",
        "matrix = confusion_matrix(y, y_pred)\n",
        "df_cm = pd.DataFrame(matrix, columns=np.unique(y_test), index = np.unique(y_test))\n",
        "df_cm.index.name = 'Actual'\n",
        "df_cm.columns.name = 'Predicted'\n",
        "plt.figure(figsize=(10, 7))\n",
        "sns.heatmap(df_cm, cmap='coolwarm', annot=True)"
      ]
    }
  ],
  "metadata": {
    "colab": {
      "provenance": []
    },
    "kernelspec": {
      "display_name": "Python 3",
      "name": "python3"
    },
    "language_info": {
      "name": "python"
    }
  },
  "nbformat": 4,
  "nbformat_minor": 0
}